{
 "cells": [
  {
   "cell_type": "markdown",
   "metadata": {},
   "source": [
    "# Python Pandas Breakouts \n"
   ]
  },
  {
   "cell_type": "markdown",
   "metadata": {},
   "source": [
    "### 1. Import the necessary packages in the code block below\n",
    "    - pandas \n",
    "    - numpy"
   ]
  },
  {
   "cell_type": "code",
   "execution_count": null,
   "metadata": {},
   "outputs": [],
   "source": [
    "# your code goes here \n",
    "import numpy as np\n",
    "import pandas as pd\n"
   ]
  },
  {
   "cell_type": "markdown",
   "metadata": {},
   "source": [
    "### 2. Working with Series "
   ]
  },
  {
   "cell_type": "code",
   "execution_count": 21,
   "metadata": {},
   "outputs": [],
   "source": [
    "#- use the pandas Series class to convert these lists into pandas series objects (Pandas.Series)\n",
    "import pandas as pd\n",
    "\n",
    "state = ['Alabama', 'Alaska', 'Arizona', 'Arkansas', 'California', 'Colorado', 'Connecticut', 'Delaware', 'District of Columbia', 'Florida']\n",
    "population = [4817678, 728300, 6561516, 2947036, 38066920, 5197580, 3592053, 917060, 633736, 19361792]\n",
    "evreg = [4750, 1290, 40740, 2390, 563070, 37000, 13350, 3010, 3700, 95640]\n",
    "\n",
    "\n",
    "# your code goes here \n",
    "state_series = pd.Series(state)\n",
    "pop_series = pd.Series(population)\n",
    "evreg_series = pd.Series(evreg)\n"
   ]
  },
  {
   "cell_type": "code",
   "execution_count": 22,
   "metadata": {},
   "outputs": [
    {
     "name": "stdout",
     "output_type": "stream",
     "text": [
      "California\n",
      "38066920\n",
      "563070\n"
     ]
    }
   ],
   "source": [
    "# using the index value print out California from the state Series, print the corresponding index from population series, and finally  print the corresponding index from the ev reg series\n",
    "california = state_series[4]\n",
    "# your code goes here\n",
    "print(state_series[4])\n",
    "print(pop_series[4])\n",
    "print(evreg_series[4])\n"
   ]
  },
  {
   "cell_type": "markdown",
   "metadata": {},
   "source": [
    "### How to Combine Two Series into a Pandas DataFrame\n",
    "- Can combine/merge two or more series by using:\n",
    "    - `.concat()`: Combines 2+ series\n",
    "    - `Pandas.merge()`: Combines combinations of dataframes, similar to SQL joins\n",
    "    - `dataFrame.join()`: Joins two series"
   ]
  },
  {
   "cell_type": "code",
   "execution_count": 23,
   "metadata": {},
   "outputs": [],
   "source": [
    "#1 Create 3 pandas series' as you have done above with the following lists \n",
    "\n",
    "state = ['Alabama', 'Alaska', 'Arizona', 'Arkansas', 'California', 'Colorado', 'Connecticut', 'Delaware', 'District of Columbia', 'Florida']\n",
    "population = [4817678, 728300, 6561516, 2947036, 38066920, 5197580, 3592053, 917060, 633736, 19361792]\n",
    "evreg = [4750, 1290, 40740, 2390, 563070, 37000, 13350, 3010, 3700, 95640]\n",
    "\n",
    "# your code goes here \n",
    "state_series = pd.Series(state)\n",
    "pop_series = pd.Series(population)\n",
    "evreg_series = pd.Series(evreg)"
   ]
  },
  {
   "cell_type": "code",
   "execution_count": 32,
   "metadata": {},
   "outputs": [
    {
     "name": "stdout",
     "output_type": "stream",
     "text": [
      "                      0         1\n",
      "0               Alabama   4817678\n",
      "1                Alaska    728300\n",
      "2               Arizona   6561516\n",
      "3              Arkansas   2947036\n",
      "4            California  38066920\n",
      "5              Colorado   5197580\n",
      "6           Connecticut   3592053\n",
      "7              Delaware    917060\n",
      "8  District of Columbia    633736\n",
      "9               Florida  19361792\n"
     ]
    }
   ],
   "source": [
    "#Combine 2 series using .concat() and store this in a variable called `two_series`\n",
    "#print `two_series`\n",
    "\n",
    "#your code goes here\n",
    "two_series = pd.concat([state_series, pop_series], axis = 1)\n",
    "print(two_series)"
   ]
  },
  {
   "cell_type": "code",
   "execution_count": 38,
   "metadata": {},
   "outputs": [
    {
     "name": "stdout",
     "output_type": "stream",
     "text": [
      "                      0         1       2\n",
      "0               Alabama   4817678    4750\n",
      "1                Alaska    728300    1290\n",
      "2               Arizona   6561516   40740\n",
      "3              Arkansas   2947036    2390\n",
      "4            California  38066920  563070\n",
      "5              Colorado   5197580   37000\n",
      "6           Connecticut   3592053   13350\n",
      "7              Delaware    917060    3010\n",
      "8  District of Columbia    633736    3700\n",
      "9               Florida  19361792   95640\n"
     ]
    }
   ],
   "source": [
    "#combine all three series using .concat()\n",
    "# print the result \n",
    "\n",
    "#your code goes here\n",
    "three_series = pd.concat([state_series, pop_series, evreg_series], axis = 1)\n",
    "print(three_series)"
   ]
  },
  {
   "cell_type": "code",
   "execution_count": 47,
   "metadata": {},
   "outputs": [
    {
     "name": "stdout",
     "output_type": "stream",
     "text": [
      "                 States  Population   Evreg\n",
      "0               Alabama     4817678    4750\n",
      "1                Alaska      728300    1290\n",
      "2               Arizona     6561516   40740\n",
      "3              Arkansas     2947036    2390\n",
      "4            California    38066920  563070\n",
      "5              Colorado     5197580   37000\n",
      "6           Connecticut     3592053   13350\n",
      "7              Delaware      917060    3010\n",
      "8  District of Columbia      633736    3700\n",
      "9               Florida    19361792   95640\n"
     ]
    }
   ],
   "source": [
    "# re-create the Series objects form above but with column names refer to 5.2 curriculum or pandas.Series documentation for help \n",
    "# join all three series using .concat()\n",
    " \n",
    "state = ['Alabama', 'Alaska', 'Arizona', 'Arkansas', 'California', 'Colorado', 'Connecticut', 'Delaware', 'District of Columbia', 'Florida']\n",
    "population = [4817678, 728300, 6561516, 2947036, 38066920, 5197580, 3592053, 917060, 633736, 19361792]\n",
    "evreg = [4750, 1290, 40740, 2390, 563070, 37000, 13350, 3010, 3700, 95640]\n",
    "\n",
    "\n",
    "#your code goes here\n",
    "series_states = pd.Series(['Alabama', 'Alaska', 'Arizona', 'Arkansas', 'California', 'Colorado', 'Connecticut', 'Delaware', 'District of Columbia', 'Florida'], name= 'States') \n",
    "series_pop = pd.Series([4817678, 728300, 6561516, 2947036, 38066920, 5197580, 3592053, 917060, 633736, 19361792], name= 'Population')\n",
    "series_evreg = pd.Series([4750, 1290, 40740, 2390, 563070, 37000, 13350, 3010, 3700, 95640], name= 'Evreg')\n",
    "dataframe = pd.concat([series_states, series_pop, series_evreg], axis= 1)\n",
    "\n",
    "print(dataframe)"
   ]
  },
  {
   "cell_type": "code",
   "execution_count": 200,
   "metadata": {},
   "outputs": [
    {
     "name": "stdout",
     "output_type": "stream",
     "text": [
      "['r1', 'r2', 'r3', 'r4', 'r5', 'r6', 'r7', 'r8', 'r9']\n"
     ]
    }
   ],
   "source": [
    "#run this code block but do not change this code\n",
    "index_list = []\n",
    "\n",
    "for i in range(1,len(series_states)):\n",
    "    index_list.append('r'+str(i))\n",
    "print(index_list)"
   ]
  },
  {
   "cell_type": "code",
   "execution_count": 4,
   "metadata": {},
   "outputs": [
    {
     "name": "stdout",
     "output_type": "stream",
     "text": [
      "                   States  Population   Evreg\n",
      "r1                Alabama     4817678    4750\n",
      "r2                 Alaska      728300    1290\n",
      "r3                Arizona     6561516   40740\n",
      "r4               Arkansas     2947036    2390\n",
      "r5             California    38066920  563070\n",
      "r6               Colorado     5197580   37000\n",
      "r7            Connecticut     3592053   13350\n",
      "r8               Delaware      917060    3010\n",
      "r9   District of Columbia      633736    3700\n",
      "r10               Florida    19361792   95640\n"
     ]
    }
   ],
   "source": [
    "# use the index list created above to change the index on the three Series objects you have created. \n",
    "# use the curriculum or pandas documentation for assisstance\n",
    "import pandas as pd\n",
    "index_list = []\n",
    "\n",
    "for i in range(1,11):\n",
    "    index_list.append('r'+str(i))\n",
    "# your code goes here  \n",
    "series_states = pd.Series(['Alabama', 'Alaska', 'Arizona', 'Arkansas', 'California', 'Colorado', 'Connecticut', 'Delaware', 'District of Columbia', 'Florida'],index = index_list, name= 'States') \n",
    "series_pop = pd.Series([4817678, 728300, 6561516, 2947036, 38066920, 5197580, 3592053, 917060, 633736, 19361792], index = index_list, name= 'Population')\n",
    "series_evreg = pd.Series([4750, 1290, 40740, 2390, 563070, 37000, 13350, 3010, 3700, 95640], index = index_list, name= 'Evreg')\n",
    "dataframe = pd.concat([series_states, series_pop, series_evreg], axis= 1)\n",
    "print(dataframe)\n",
    "\n"
   ]
  },
  {
   "cell_type": "code",
   "execution_count": 7,
   "metadata": {},
   "outputs": [
    {
     "name": "stdout",
     "output_type": "stream",
     "text": [
      "                 States  Population   Evreg\n",
      "0               Alabama     4817678    4750\n",
      "1                Alaska      728300    1290\n",
      "2               Arizona     6561516   40740\n",
      "3              Arkansas     2947036    2390\n",
      "4            California    38066920  563070\n",
      "5              Colorado     5197580   37000\n",
      "6           Connecticut     3592053   13350\n",
      "7              Delaware      917060    3010\n",
      "8  District of Columbia      633736    3700\n",
      "9               Florida    19361792   95640\n"
     ]
    }
   ],
   "source": [
    "# insert the 3 pandas Series objects into a dictionary with the column name being the key and the Series object being the value \n",
    "# use .concat() to covert the three series objects to a dataframe \n",
    "# there is some helper skeleton code to aid you while inserting the Series into the dictionary\n",
    "dict = {}\n",
    "series_states = pd.Series(['Alabama', 'Alaska', 'Arizona', 'Arkansas', 'California', 'Colorado', 'Connecticut', 'Delaware', 'District of Columbia', 'Florida'],index = index_list, name= 'States') \n",
    "series_pop = pd.Series([4817678, 728300, 6561516, 2947036, 38066920, 5197580, 3592053, 917060, 633736, 19361792], index = index_list, name= 'Population')\n",
    "series_evreg = pd.Series([4750, 1290, 40740, 2390, 563070, 37000, 13350, 3010, 3700, 95640], index = index_list, name= 'Evreg')\n",
    " \n",
    "# your code goes here\n",
    "\n",
    "dict['States'] = series_states\n",
    "dict['Population'] = series_pop\n",
    "dict['Evreg'] = series_evreg\n",
    "new_df = pd.concat((dict), axis = 1)\n",
    "#print(dict)\n",
    "new_df = new_df.reset_index(drop=True)\n",
    "print(new_df)\n",
    "\n"
   ]
  },
  {
   "cell_type": "code",
   "execution_count": 11,
   "metadata": {},
   "outputs": [
    {
     "name": "stdout",
     "output_type": "stream",
     "text": [
      "                 States  Population   Evreg\n",
      "0               Alabama     4817678    4750\n",
      "1                Alaska      728300    1290\n",
      "2               Arizona     6561516   40740\n",
      "3              Arkansas     2947036    2390\n",
      "4            California    38066920  563070\n",
      "5              Colorado     5197580   37000\n",
      "6           Connecticut     3592053   13350\n",
      "7              Delaware      917060    3010\n",
      "8  District of Columbia      633736    3700\n",
      "9               Florida    19361792   95640\n"
     ]
    }
   ],
   "source": [
    "# use df method .reset_index() to drop the current index \n",
    "# use curriculum or documentation for assistance\n",
    "dict = {}\n",
    "\n",
    "series_states = pd.Series(['Alabama', 'Alaska', 'Arizona', 'Arkansas', 'California', 'Colorado', 'Connecticut', 'Delaware', 'District of Columbia', 'Florida'],index = index_list, name= 'States') \n",
    "series_pop = pd.Series([4817678, 728300, 6561516, 2947036, 38066920, 5197580, 3592053, 917060, 633736, 19361792], index = index_list, name= 'Population')\n",
    "series_evreg = pd.Series([4750, 1290, 40740, 2390, 563070, 37000, 13350, 3010, 3700, 95640], index = index_list, name= 'Evreg')\n",
    " \n",
    "# your code goes here\n",
    "\n",
    "dict['States'] = series_states\n",
    "dict['Population'] = series_pop\n",
    "dict['Evreg'] = series_evreg\n",
    "new_df = pd.concat((dict), axis = 1)\n",
    "# your code goes here\n",
    "new_df = new_df.reset_index(drop=True)\n",
    "print(new_df)"
   ]
  },
  {
   "cell_type": "markdown",
   "metadata": {},
   "source": [
    "# 3. Working with pandas.merge()"
   ]
  },
  {
   "cell_type": "markdown",
   "metadata": {},
   "source": [
    "#### Combine Two Series using `pandas.merge()`\n",
    "- `.merge()` - Merges complex dataframes, through columns, similar to SQL-like joins \n",
    "    - Can be used for joining dataframes and/or series \n",
    "    - Must pass the extra parameter \"name\" to the series\n",
    "    - **Syntax Example**: `pd.merge(S1, S2, right_index=True, left_index=True)`."
   ]
  },
  {
   "cell_type": "code",
   "execution_count": 35,
   "metadata": {},
   "outputs": [
    {
     "name": "stdout",
     "output_type": "stream",
     "text": [
      "                 States  Evregs\n",
      "0               Alabama    4750\n",
      "1                Alaska    1290\n",
      "2               Arizona   40740\n",
      "3              Arkansas    2390\n",
      "4            California  563070\n",
      "5              Colorado   37000\n",
      "6           Connecticut   13350\n",
      "7              Delaware    3010\n",
      "8  District of Columbia    3700\n",
      "9               Florida   95640\n"
     ]
    }
   ],
   "source": [
    "# given the two lists, convert them to Series objects, give them column names using the name parameter\n",
    "# then use pd.merge() to join the two lists\n",
    "import pandas as pd\n",
    "\n",
    "states = ['Alabama', 'Alaska', 'Arizona', 'Arkansas', 'California', 'Colorado', 'Connecticut', 'Delaware', 'District of Columbia', 'Florida']\n",
    "evregs = [4750, 1290, 40740, 2390, 563070, 37000, 13350, 3010, 3700, 95640]\n",
    "\n",
    "#your code goes here\n",
    "states_s = pd.Series(['Alabama', 'Alaska', 'Arizona', 'Arkansas', 'California', 'Colorado', 'Connecticut', 'Delaware', 'District of Columbia', 'Florida'], name= 'States')\n",
    "evregs_s = pd.Series([4750, 1290, 40740, 2390, 563070, 37000, 13350, 3010, 3700, 95640], name = 'Evregs')\n",
    "merged = pd.merge(states_s,evregs_s, right_index= True, \n",
    "                  left_index=True)\n",
    "print(merged)"
   ]
  },
  {
   "cell_type": "markdown",
   "metadata": {},
   "source": [
    "#### 4.) Combine Two Series Using `DataFrame.join()`\n",
    "- `DataFrame.join()` - Joins 2 Series\n",
    "- In order to use, MUST have a DataFrame object "
   ]
  },
  {
   "cell_type": "code",
   "execution_count": 42,
   "metadata": {},
   "outputs": [
    {
     "name": "stdout",
     "output_type": "stream",
     "text": [
      "                  State  Population\n",
      "0               Alabama     4817678\n",
      "1                Alaska      728300\n",
      "2               Arizona     6561516\n",
      "3              Arkansas     2947036\n",
      "4            California    38066920\n",
      "5              Colorado     5197580\n",
      "6           Connecticut     3592053\n",
      "7              Delaware      917060\n",
      "8  District of Columbia      633736\n",
      "9               Florida    19361792\n"
     ]
    }
   ],
   "source": [
    "# given the two lists\n",
    "# convert the lists to series objects\n",
    "# use DataFrame.join() to join the two series objects\n",
    "import pandas as pd\n",
    "\n",
    "state = ['Alabama', 'Alaska', 'Arizona', 'Arkansas', 'California', 'Colorado', 'Connecticut', 'Delaware', 'District of Columbia', 'Florida']\n",
    "population = [4817678, 728300, 6561516, 2947036, 38066920, 5197580, 3592053, 917060, 633736, 19361792]\n",
    "\n",
    "#df = pd.DataFrame(var1).join(var2)\n",
    "states = pd.Series(['Alabama', 'Alaska', 'Arizona', 'Arkansas', 'California', 'Colorado', 'Connecticut', 'Delaware', 'District of Columbia', 'Florida'], name= \"State\")\n",
    "pop = pd.Series([4817678, 728300, 6561516, 2947036, 38066920, 5197580, 3592053, 917060, 633736, 19361792], name= 'Population')\n",
    "#your code goes here\n",
    "state_pop_df = pd.DataFrame(states).join(pop)\n",
    "print(state_pop_df)\n",
    "\n"
   ]
  },
  {
   "cell_type": "markdown",
   "metadata": {},
   "source": [
    "# Working with DataFrames "
   ]
  },
  {
   "cell_type": "markdown",
   "metadata": {},
   "source": [
    " 1. inserting data into dataframes and locating specific rows of data within our dataframes \n"
   ]
  },
  {
   "cell_type": "code",
   "execution_count": 47,
   "metadata": {},
   "outputs": [
    {
     "name": "stdout",
     "output_type": "stream",
     "text": [
      "                  state  population   evreg\n",
      "0               Alabama     4817678    4750\n",
      "1                Alaska      728300    1290\n",
      "2               Arizona     6561516   40740\n",
      "3              Arkansas     2947036    2390\n",
      "4            California    38066920  563070\n",
      "5              Colorado     5197580   37000\n",
      "6           Connecticut     3592053   13350\n",
      "7              Delaware      917060    3010\n",
      "8  District of Columbia      633736    3700\n",
      "9               Florida    19361792   95640\n"
     ]
    }
   ],
   "source": [
    "# use the follow dictionary for the upcoming questions\n",
    "import pandas as pd\n",
    "\n",
    "dict = {\n",
    "'state': ['Alabama', 'Alaska', 'Arizona', 'Arkansas', 'California', 'Colorado', 'Connecticut', 'Delaware', 'District of Columbia', 'Florida'],\n",
    "'population' : [4817678, 728300, 6561516, 2947036, 38066920, 5197580, 3592053, 917060, 633736, 19361792],\n",
    "'evreg' :[4750, 1290, 40740, 2390, 563070, 37000, 13350, 3010, 3700, 95640]\n",
    "}\n",
    "data = pd.DataFrame(dict)\n",
    "print(data)"
   ]
  },
  {
   "cell_type": "code",
   "execution_count": 48,
   "metadata": {},
   "outputs": [],
   "source": [
    "# convert the dictionary to a dataframe \n",
    "\n",
    "import pandas as pd\n",
    "\n",
    "dict = {\n",
    "'state': ['Alabama', 'Alaska', 'Arizona', 'Arkansas', 'California', 'Colorado', 'Connecticut', 'Delaware', 'District of Columbia', 'Florida'],\n",
    "'population' : [4817678, 728300, 6561516, 2947036, 38066920, 5197580, 3592053, 917060, 633736, 19361792],\n",
    "'evreg' :[4750, 1290, 40740, 2390, 563070, 37000, 13350, 3010, 3700, 95640]\n",
    "}\n",
    "data = pd.DataFrame(dict)\n",
    "print(data)\n"
   ]
  },
  {
   "cell_type": "code",
   "execution_count": 139,
   "metadata": {},
   "outputs": [
    {
     "name": "stdout",
     "output_type": "stream",
     "text": [
      "0                 Alabama\n",
      "1                  Alaska\n",
      "2                 Arizona\n",
      "3                Arkansas\n",
      "4              California\n",
      "5                Colorado\n",
      "6             Connecticut\n",
      "7                Delaware\n",
      "8    District of Columbia\n",
      "9                 Florida\n",
      "Name: state, dtype: object\n",
      "state         Alaska\n",
      "population    728300\n",
      "evreg           1290\n",
      "Name: 1, dtype: object\n",
      "     state  population  evreg\n",
      "1   Alaska      728300   1290\n",
      "2  Arizona     6561516  40740\n"
     ]
    }
   ],
   "source": [
    "# find the location of specific rows in the dataframe from the above code block using the index position (HINT:refer to previous cell output for index position)\n",
    "# print out arkansas using .loc and the index position \n",
    "# print both Delaware and California using .loc and their index position. \n",
    "import pandas as pd\n",
    "\n",
    "index_labels = []\n",
    "\n",
    "for i in range(0,10):\n",
    "    index_labels.append('r' + str(i+1))\n",
    "\n",
    "dict = {\n",
    "'state': ['Alabama', 'Alaska', 'Arizona', 'Arkansas', 'California', 'Colorado', 'Connecticut', 'Delaware', 'District of Columbia', 'Florida'],\n",
    "'population' : [4817678, 728300, 6561516, 2947036, 38066920, 5197580, 3592053, 917060, 633736, 19361792],\n",
    "'evreg' :[4750, 1290, 40740, 2390, 563070, 37000, 13350, 3010, 3700, 95640]\n",
    "}\n",
    "data = pd.DataFrame(dict)\n",
    "\n",
    "# your code goes here\n",
    "print(data['state'])\n",
    "print(data.loc[1])\n",
    "print(data.loc[[1, 2]])\n",
    "\n",
    "\n",
    "\n"
   ]
  },
  {
   "cell_type": "code",
   "execution_count": 140,
   "metadata": {},
   "outputs": [],
   "source": [
    "# run the following code without making changes\n",
    "index_labels = []\n",
    "\n",
    "for i in range(0,11):\n",
    "    index_labels.append('r' + str(i+1))\n"
   ]
  },
  {
   "cell_type": "code",
   "execution_count": 141,
   "metadata": {},
   "outputs": [],
   "source": [
    "# use the index_labels list created in the cell above to make a new df using dict but make sure to set index to our new list of indexs\n",
    "# print out new dataframe\n",
    "\n",
    "# your code goes here\n",
    "\n"
   ]
  },
  {
   "cell_type": "code",
   "execution_count": 142,
   "metadata": {},
   "outputs": [],
   "source": [
    "# locate  and print out florida using the new index of r10 and .loc\n",
    "\n",
    "# your code goes here\n",
    "\n"
   ]
  },
  {
   "cell_type": "markdown",
   "metadata": {},
   "source": [
    "2. inserting data from nested list and  changing the order of the data frame "
   ]
  },
  {
   "cell_type": "code",
   "execution_count": 143,
   "metadata": {},
   "outputs": [
    {
     "ename": "NameError",
     "evalue": "name 'np' is not defined",
     "output_type": "error",
     "traceback": [
      "\u001b[1;31m---------------------------------------------------------------------------\u001b[0m",
      "\u001b[1;31mNameError\u001b[0m                                 Traceback (most recent call last)",
      "Cell \u001b[1;32mIn[143], line 11\u001b[0m\n\u001b[0;32m      1\u001b[0m \u001b[39m# create a new dataframe with state_info nested list and the list of columns\u001b[39;00m\n\u001b[0;32m      3\u001b[0m state_info \u001b[39m=\u001b[39m [\n\u001b[0;32m      4\u001b[0m [\u001b[39m'\u001b[39m\u001b[39mFlorida\u001b[39m\u001b[39m'\u001b[39m, \u001b[39m19361792\u001b[39m, \u001b[39m71.8\u001b[39m, \u001b[39m2\u001b[39m, \u001b[39m95640\u001b[39m], \n\u001b[0;32m      5\u001b[0m [\u001b[39m'\u001b[39m\u001b[39mGeorgia\u001b[39m\u001b[39m'\u001b[39m, \u001b[39m9907756\u001b[39m, \u001b[39m62.3\u001b[39m, \u001b[39m8\u001b[39m, \u001b[39m34020\u001b[39m], \n\u001b[0;32m      6\u001b[0m [\u001b[39m'\u001b[39m\u001b[39mHawaii\u001b[39m\u001b[39m'\u001b[39m, \u001b[39m1392704\u001b[39m, \u001b[39m72.95\u001b[39m, \u001b[39m1\u001b[39m, \u001b[39m14220\u001b[39m], \n\u001b[0;32m      7\u001b[0m [\u001b[39m'\u001b[39m\u001b[39mIdaho\u001b[39m\u001b[39m'\u001b[39m, \u001b[39m1599464\u001b[39m, \u001b[39m46.32\u001b[39m, \u001b[39m40\u001b[39m, \u001b[39m3500\u001b[39m], \n\u001b[0;32m      8\u001b[0m [\u001b[39m'\u001b[39m\u001b[39mIllinois\u001b[39m\u001b[39m'\u001b[39m, \u001b[39m12868747\u001b[39m, \u001b[39m51.37\u001b[39m, \u001b[39m27\u001b[39m, \u001b[39m36520\u001b[39m],\n\u001b[0;32m      9\u001b[0m [\u001b[39m'\u001b[39m\u001b[39mIndiana\u001b[39m\u001b[39m'\u001b[39m, \u001b[39m6542411\u001b[39m, \u001b[39m51.81\u001b[39m, \u001b[39m26\u001b[39m, \u001b[39m10360\u001b[39m], \n\u001b[0;32m     10\u001b[0m [\u001b[39m'\u001b[39m\u001b[39mIowa\u001b[39m\u001b[39m'\u001b[39m, \u001b[39m3078116\u001b[39m, \u001b[39m48.14\u001b[39m, \u001b[39m38\u001b[39m, \u001b[39m3660\u001b[39m], \n\u001b[1;32m---> 11\u001b[0m [\u001b[39m'\u001b[39m\u001b[39mKansas\u001b[39m\u001b[39m'\u001b[39m, \u001b[39m2882946\u001b[39m, np\u001b[39m.\u001b[39mNaN, \u001b[39m20\u001b[39m, \u001b[39m4500\u001b[39m], \n\u001b[0;32m     12\u001b[0m [\u001b[39m'\u001b[39m\u001b[39mKentucky\u001b[39m\u001b[39m'\u001b[39m, \u001b[39m4383272\u001b[39m, \u001b[39m55.62\u001b[39m, \u001b[39m16\u001b[39m, \u001b[39m4220\u001b[39m], \n\u001b[0;32m     13\u001b[0m [\u001b[39m'\u001b[39m\u001b[39mLouisiana\u001b[39m\u001b[39m'\u001b[39m, \u001b[39m4601049\u001b[39m, \u001b[39m66.74\u001b[39m, \u001b[39m3\u001b[39m, \u001b[39m3180\u001b[39m], \n\u001b[0;32m     14\u001b[0m [\u001b[39m'\u001b[39m\u001b[39mMaine\u001b[39m\u001b[39m'\u001b[39m, \u001b[39m1328535\u001b[39m, \u001b[39m43.09\u001b[39m, \u001b[39m48\u001b[39m, \u001b[39m3040\u001b[39m]\n\u001b[0;32m     15\u001b[0m ]\n\u001b[0;32m     17\u001b[0m columns \u001b[39m=\u001b[39m [\u001b[39m'\u001b[39m\u001b[39mState\u001b[39m\u001b[39m'\u001b[39m, \u001b[39m'\u001b[39m\u001b[39mPopulation\u001b[39m\u001b[39m'\u001b[39m, \u001b[39m'\u001b[39m\u001b[39mAvg_TEMP_F\u001b[39m\u001b[39m'\u001b[39m, \u001b[39m'\u001b[39m\u001b[39mRank\u001b[39m\u001b[39m'\u001b[39m, \u001b[39m'\u001b[39m\u001b[39mEV_Registrations\u001b[39m\u001b[39m'\u001b[39m]\n",
      "\u001b[1;31mNameError\u001b[0m: name 'np' is not defined"
     ]
    }
   ],
   "source": [
    "# create a new dataframe with state_info nested list and the list of columns\n",
    "\n",
    "state_info = [\n",
    "['Florida', 19361792, 71.8, 2, 95640], \n",
    "['Georgia', 9907756, 62.3, 8, 34020], \n",
    "['Hawaii', 1392704, 72.95, 1, 14220], \n",
    "['Idaho', 1599464, 46.32, 40, 3500], \n",
    "['Illinois', 12868747, 51.37, 27, 36520],\n",
    "['Indiana', 6542411, 51.81, 26, 10360], \n",
    "['Iowa', 3078116, 48.14, 38, 3660], \n",
    "['Kansas', 2882946, np.NaN, 20, 4500], \n",
    "['Kentucky', 4383272, 55.62, 16, 4220], \n",
    "['Louisiana', 4601049, 66.74, 3, 3180], \n",
    "['Maine', 1328535, 43.09, 48, 3040]\n",
    "]\n",
    "\n",
    "columns = ['State', 'Population', 'Avg_TEMP_F', 'Rank', 'EV_Registrations']\n",
    "\n",
    "\n",
    "\n",
    "# your code goes here\n"
   ]
  },
  {
   "cell_type": "code",
   "execution_count": null,
   "metadata": {},
   "outputs": [],
   "source": [
    "# use sort values to sort the data frame by State \n",
    "\n",
    "# your code goes here\n",
    "\n"
   ]
  },
  {
   "cell_type": "code",
   "execution_count": null,
   "metadata": {},
   "outputs": [],
   "source": [
    "# use sort values to sort the data by population in descending order\n",
    "\n",
    "# your code goes here\n",
    "\n",
    "\n"
   ]
  }
 ],
 "metadata": {
  "kernelspec": {
   "display_name": "Python 3",
   "language": "python",
   "name": "python3"
  },
  "language_info": {
   "codemirror_mode": {
    "name": "ipython",
    "version": 3
   },
   "file_extension": ".py",
   "mimetype": "text/x-python",
   "name": "python",
   "nbconvert_exporter": "python",
   "pygments_lexer": "ipython3",
   "version": "3.9.16"
  },
  "orig_nbformat": 4
 },
 "nbformat": 4,
 "nbformat_minor": 2
}
