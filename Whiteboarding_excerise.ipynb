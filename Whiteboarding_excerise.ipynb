{
 "cells": [
  {
   "cell_type": "markdown",
   "metadata": {},
   "source": [
    "# Question: Write a function that count the number of vowels in a string\n",
    "\n",
    "## Requirements, clarification, and questions asked\n",
    "### - User input or available variable (Use an Input value)\n",
    "### - Would all inputs/variables be a string datatype (No, plan for other datatypes)\n",
    "### - Is it a requirement that it uses a function, or would using only a loop suffice? (Use a Function)\n",
    "\n",
    "## Break down the problem \n",
    "### Ensure that the variable exists and is converted to a string\n",
    "### Create a function that takes in a variable\n",
    "### Create a Conditional that compares each character of the string to all the vowels\n",
    "### Create variable that keeps count of vowels\n",
    "### return length of vowel string to answer how many vowels in the string\n",
    "\n",
    "## Present the pseudocode\n",
    "\n",
    "## Present the code\n",
    "\n",
    "## Run/Testing the code\n"
   ]
  },
  {
   "cell_type": "code",
   "execution_count": 10,
   "metadata": {},
   "outputs": [
    {
     "name": "stdout",
     "output_type": "stream",
     "text": [
      "4\n"
     ]
    }
   ],
   "source": [
    "#Ask user for a variable\n",
    "user_value = str(input(\"Tell me about your morning!\"))\n",
    "\n",
    "#Create function that takes in one parameter\n",
    "def count_vowels(string):\n",
    "\n",
    "#Create variable that will keep count of the vowels\n",
    "    vowels = 0\n",
    "    \n",
    "#Create a for loop that goes through the string\n",
    "    for char in string:\n",
    "\n",
    "#Create conditional within the for loop that test if the character is a vowel\n",
    "        if char.lower() in \"aeiou\":\n",
    "\n",
    "#Add to vowel variable if letter is a vowel\n",
    "            vowels += 1\n",
    "\n",
    "#Log and print the vowel count\n",
    "    print(vowels)\n",
    "\n",
    "#Call function\n",
    "count_vowels(user_value)\n",
    "\n"
   ]
  }
 ],
 "metadata": {
  "kernelspec": {
   "display_name": "base",
   "language": "python",
   "name": "python3"
  },
  "language_info": {
   "codemirror_mode": {
    "name": "ipython",
    "version": 3
   },
   "file_extension": ".py",
   "mimetype": "text/x-python",
   "name": "python",
   "nbconvert_exporter": "python",
   "pygments_lexer": "ipython3",
   "version": "3.9.16"
  },
  "orig_nbformat": 4
 },
 "nbformat": 4,
 "nbformat_minor": 2
}
