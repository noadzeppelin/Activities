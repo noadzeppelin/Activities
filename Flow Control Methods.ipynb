{
 "cells": [
  {
   "cell_type": "code",
   "execution_count": 2,
   "metadata": {},
   "outputs": [
    {
     "name": "stdout",
     "output_type": "stream",
     "text": [
      "1\n",
      "2\n",
      "3\n",
      "4\n",
      "5\n",
      "6\n",
      "7\n",
      "8\n",
      "9\n",
      "10\n"
     ]
    }
   ],
   "source": [
    "for num in range(1,11):\n",
    "    print(num)"
   ]
  },
  {
   "cell_type": "code",
   "execution_count": 3,
   "metadata": {},
   "outputs": [
    {
     "name": "stdout",
     "output_type": "stream",
     "text": [
      "1\n",
      "2\n",
      "3\n",
      "4\n",
      "5\n",
      "6\n",
      "7\n",
      "8\n",
      "9\n",
      "10\n"
     ]
    }
   ],
   "source": [
    "x = 1\n",
    "\n",
    "while x <= 10:\n",
    "    print(x)\n",
    "    x += 1"
   ]
  },
  {
   "cell_type": "code",
   "execution_count": 5,
   "metadata": {},
   "outputs": [
    {
     "name": "stdout",
     "output_type": "stream",
     "text": [
      "4, 8, 12, 16, 20, 24, 28, 32, 36, 40, 44, 48, 52, 56, 60, 64, 68, 72, 76, 80, 84, 88, 92, 96, 100, "
     ]
    }
   ],
   "source": [
    "for x in range(1,101):\n",
    "    if x % 4 == 0:\n",
    "        print(x, end= \", \")\n",
    "    else:\n",
    "        continue\n",
    "\n"
   ]
  },
  {
   "cell_type": "code",
   "execution_count": 7,
   "metadata": {},
   "outputs": [
    {
     "name": "stdout",
     "output_type": "stream",
     "text": [
      "o, i, a, e, o, e, I, a, a, i, o, e, a, o, e, "
     ]
    }
   ],
   "source": [
    "string = \"Python is awesome. I can't wait to learn more!\"\n",
    "for letter in string:\n",
    "    if letter in \"AEIOUaeiou\":\n",
    "        print(letter, end=\", \")\n",
    "    else:\n",
    "        continue"
   ]
  },
  {
   "cell_type": "code",
   "execution_count": 8,
   "metadata": {},
   "outputs": [
    {
     "name": "stdout",
     "output_type": "stream",
     "text": [
      "Ruby Red Corvette\n",
      "Python Green Corvette\n",
      "Java Brown Corvette\n",
      "C++ Yellow Corvette\n",
      "Full Stack Rainbow Corvette\n",
      "Savvy Coders Blue Corvette\n",
      "Ruby Red Camaro\n",
      "Python Green Camaro\n",
      "Java Brown Camaro\n",
      "C++ Yellow Camaro\n",
      "Full Stack Rainbow Camaro\n",
      "Savvy Coders Blue Camaro\n",
      "Ruby Red Mustang\n",
      "Python Green Mustang\n",
      "Java Brown Mustang\n",
      "C++ Yellow Mustang\n",
      "Full Stack Rainbow Mustang\n",
      "Savvy Coders Blue Mustang\n",
      "Ruby Red Viper\n",
      "Python Green Viper\n",
      "Java Brown Viper\n",
      "C++ Yellow Viper\n",
      "Full Stack Rainbow Viper\n",
      "Savvy Coders Blue Viper\n",
      "Ruby Red Charger\n",
      "Python Green Charger\n",
      "Java Brown Charger\n",
      "C++ Yellow Charger\n",
      "Full Stack Rainbow Charger\n",
      "Savvy Coders Blue Charger\n"
     ]
    }
   ],
   "source": [
    "cars = ['Corvette', 'Camaro', 'Mustang', 'Viper', 'Charger']\n",
    "colors = ['Ruby Red', 'Python Green', 'Java Brown', 'C++ Yellow', 'Full Stack Rainbow','Savvy Coders Blue']\n",
    "\n",
    "for model in cars:\n",
    "    for color in colors:\n",
    "        print(color, model)"
   ]
  },
  {
   "cell_type": "markdown",
   "metadata": {},
   "source": [
    "# What is the first step in using a module\n",
    "## -Import the module to be able to access it's functions and libraries"
   ]
  },
  {
   "cell_type": "code",
   "execution_count": null,
   "metadata": {},
   "outputs": [],
   "source": [
    "# Returns: \"Your body really hurts\" for users born before 1980,\"Your back hurts\" for users born between the start of 1980 and the end 0f 1989, \"Your back is starting to hurt\" for users born between the beginning of 1990 and the end of 1999, and \"Take care of your body so it doesn't hurt\" for all users born after the start of 2000\n",
    "\n",
    "user_year_born = int(input(\"What year were you born?\"))\n",
    "\n",
    "if user_year_born < 1980:\n",
    "    print(\"Your body really hurts\")\n",
    "elif user_year_born >= 1980 and user_year_born >=1989:\n",
    "    print(\"Your back hurts\")\n",
    "elif "
   ]
  }
 ],
 "metadata": {
  "kernelspec": {
   "display_name": "base",
   "language": "python",
   "name": "python3"
  },
  "language_info": {
   "codemirror_mode": {
    "name": "ipython",
    "version": 3
   },
   "file_extension": ".py",
   "mimetype": "text/x-python",
   "name": "python",
   "nbconvert_exporter": "python",
   "pygments_lexer": "ipython3",
   "version": "3.9.16"
  },
  "orig_nbformat": 4
 },
 "nbformat": 4,
 "nbformat_minor": 2
}
